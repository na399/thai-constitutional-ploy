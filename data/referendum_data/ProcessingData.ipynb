{
 "cells": [
  {
   "cell_type": "markdown",
   "metadata": {},
   "source": [
    "# This code is to process data "
   ]
  },
  {
   "cell_type": "code",
   "execution_count": 1,
   "metadata": {},
   "outputs": [
    {
     "data": {
      "text/html": [
       "<div>\n",
       "<style scoped>\n",
       "    .dataframe tbody tr th:only-of-type {\n",
       "        vertical-align: middle;\n",
       "    }\n",
       "\n",
       "    .dataframe tbody tr th {\n",
       "        vertical-align: top;\n",
       "    }\n",
       "\n",
       "    .dataframe thead th {\n",
       "        text-align: right;\n",
       "    }\n",
       "</style>\n",
       "<table border=\"1\" class=\"dataframe\">\n",
       "  <thead>\n",
       "    <tr style=\"text-align: right;\">\n",
       "      <th></th>\n",
       "      <th>province</th>\n",
       "      <th>district</th>\n",
       "      <th>one_aye</th>\n",
       "      <th>one_aye100</th>\n",
       "      <th>one_nay</th>\n",
       "      <th>one_nay100</th>\n",
       "      <th>two_aye</th>\n",
       "      <th>two_aye100</th>\n",
       "      <th>two_nay</th>\n",
       "      <th>two_nay100</th>\n",
       "    </tr>\n",
       "  </thead>\n",
       "  <tbody>\n",
       "    <tr>\n",
       "      <th>0</th>\n",
       "      <td>จงหวด</td>\n",
       "      <td>อําเภอ/เขต</td>\n",
       "      <td>ประเดนท ่1 รํางรฐธรรมนูญ</td>\n",
       "      <td>ประเดนท ่2 คําถํามเพ่ิมเตม</td>\n",
       "      <td>NaN</td>\n",
       "      <td>NaN</td>\n",
       "      <td>NaN</td>\n",
       "      <td>NaN</td>\n",
       "      <td>NaN</td>\n",
       "      <td>NaN</td>\n",
       "    </tr>\n",
       "    <tr>\n",
       "      <th>1</th>\n",
       "      <td>NaN</td>\n",
       "      <td>NaN</td>\n",
       "      <td>เหนชอบ</td>\n",
       "      <td>รอยละ</td>\n",
       "      <td>ไมเหนชอบ</td>\n",
       "      <td>รอยละ</td>\n",
       "      <td>เหนชอบ</td>\n",
       "      <td>รอยละ</td>\n",
       "      <td>ไมเหนชอบ</td>\n",
       "      <td>รอยละ</td>\n",
       "    </tr>\n",
       "    <tr>\n",
       "      <th>2</th>\n",
       "      <td>กรุงเทพมหานคร</td>\n",
       "      <td>คลองเตย</td>\n",
       "      <td>23,475</td>\n",
       "      <td>70.28</td>\n",
       "      <td>9,928</td>\n",
       "      <td>29.72</td>\n",
       "      <td>22,171</td>\n",
       "      <td>67.13</td>\n",
       "      <td>10,858</td>\n",
       "      <td>32.87</td>\n",
       "    </tr>\n",
       "    <tr>\n",
       "      <th>3</th>\n",
       "      <td>คลองสาน</td>\n",
       "      <td>20,990</td>\n",
       "      <td>72.54</td>\n",
       "      <td>7,947</td>\n",
       "      <td>27.46</td>\n",
       "      <td>19,660</td>\n",
       "      <td>68.63</td>\n",
       "      <td>8,987</td>\n",
       "      <td>31.37</td>\n",
       "      <td>NaN</td>\n",
       "    </tr>\n",
       "    <tr>\n",
       "      <th>4</th>\n",
       "      <td>คลองสามวา</td>\n",
       "      <td>50,073</td>\n",
       "      <td>68.6</td>\n",
       "      <td>22,921</td>\n",
       "      <td>31.4</td>\n",
       "      <td>46,745</td>\n",
       "      <td>65.17</td>\n",
       "      <td>24,983</td>\n",
       "      <td>34.83</td>\n",
       "      <td>NaN</td>\n",
       "    </tr>\n",
       "  </tbody>\n",
       "</table>\n",
       "</div>"
      ],
      "text/plain": [
       "        province    district                   one_aye  \\\n",
       "0          จงหวด  อําเภอ/เขต  ประเดนท ่1 รํางรฐธรรมนูญ   \n",
       "1            NaN         NaN                    เหนชอบ   \n",
       "2  กรุงเทพมหานคร     คลองเตย                    23,475   \n",
       "3        คลองสาน      20,990                     72.54   \n",
       "4      คลองสามวา      50,073                      68.6   \n",
       "\n",
       "                   one_aye100   one_nay one_nay100 two_aye two_aye100  \\\n",
       "0  ประเดนท ่2 คําถํามเพ่ิมเตม       NaN        NaN     NaN        NaN   \n",
       "1                       รอยละ  ไมเหนชอบ      รอยละ  เหนชอบ      รอยละ   \n",
       "2                       70.28     9,928      29.72  22,171      67.13   \n",
       "3                       7,947     27.46     19,660   68.63      8,987   \n",
       "4                      22,921      31.4     46,745   65.17     24,983   \n",
       "\n",
       "    two_nay two_nay100  \n",
       "0       NaN        NaN  \n",
       "1  ไมเหนชอบ      รอยละ  \n",
       "2    10,858      32.87  \n",
       "3     31.37        NaN  \n",
       "4     34.83        NaN  "
      ]
     },
     "execution_count": 1,
     "metadata": {},
     "output_type": "execute_result"
    }
   ],
   "source": [
    "# Load the Pandas libraries with alias 'pd' \n",
    "import pandas as pd\n",
    "import numpy as np\n",
    "#import math\n",
    "\n",
    "\n",
    "# Read data from file 'filename.csv' \n",
    "# (in the same directory that your python process is based)\n",
    "# Control delimiters, rows, column names with read_csv (see later) \n",
    "\n",
    "predefined_head = ['province', 'district', 'one_aye', 'one_aye100', 'one_nay', 'one_nay100', \\\n",
    "                   'two_aye', 'two_aye100', 'two_nay', 'two_nay100'];\n",
    "table = pd.read_csv(\"tabula-results2.csv\", names = predefined_head) \n",
    "# Preview the first 5 lines of the loaded data \n",
    "table.head()"
   ]
  },
  {
   "cell_type": "markdown",
   "metadata": {},
   "source": [
    "Process the data by\n",
    "1. re-adjust the cell to the correct table structure"
   ]
  },
  {
   "cell_type": "code",
   "execution_count": 2,
   "metadata": {
    "scrolled": true
   },
   "outputs": [],
   "source": [
    "# Drop a row by condition\n",
    "\n",
    "table2 = table[~((table.one_nay).isna() | (table.district).isna() | (table.province.isna() & table.two_nay100.isna()))].copy()\n",
    "table2 = table2.iloc[0:-1]\n",
    "\n",
    "table3 = table2.copy()\n",
    "table3.loc[table3.two_nay100.isna()] = table2.loc[table2.two_nay100.isna()].shift(periods=1, axis='columns')\n",
    "\n",
    "#table3.tail(100)\n",
    "\n"
   ]
  },
  {
   "cell_type": "markdown",
   "metadata": {},
   "source": [
    "2. mark if the row is summation / out-site"
   ]
  },
  {
   "cell_type": "code",
   "execution_count": 3,
   "metadata": {
    "scrolled": true
   },
   "outputs": [],
   "source": [
    "# check if it is a summation row?\n",
    "sum_row = table3['district'].str.find('ผลรวม')\n",
    "sum_row[sum_row<0] = 0\n",
    "table3['sum_row'] = sum_row\n",
    "table3['sum_row'] = table3['sum_row'].astype('bool')\n",
    "\n",
    "# check if it is a out-site row?\n",
    "ext_row = table3['district'].str.find('อกเขตจงหว')\n",
    "ext_row[ext_row<0] = 0\n",
    "table3['ext_row'] = ext_row\n",
    "table3['ext_row'] = table3['ext_row'].astype('bool')\n",
    "\n"
   ]
  },
  {
   "cell_type": "markdown",
   "metadata": {},
   "source": [
    "3. re-label the summation row and out-site"
   ]
  },
  {
   "cell_type": "code",
   "execution_count": 4,
   "metadata": {
    "scrolled": true
   },
   "outputs": [],
   "source": [
    "table3.loc[table3[table3['ext_row']==1].index,'district'] = 'นอกเขต'\n",
    "table3.loc[table3[table3['sum_row']==1].index,'district'] = 'ผลรวม'\n",
    "\n",
    "#table3.tail(100)"
   ]
  },
  {
   "cell_type": "markdown",
   "metadata": {
    "scrolled": true
   },
   "source": [
    "4. repeat the province cells"
   ]
  },
  {
   "cell_type": "code",
   "execution_count": 5,
   "metadata": {
    "scrolled": true
   },
   "outputs": [],
   "source": [
    "table3.fillna(method='ffill', inplace=True)\n",
    "#table3.tail(100)"
   ]
  },
  {
   "cell_type": "markdown",
   "metadata": {},
   "source": [
    "# correct the typos\n",
    "## correct provinces"
   ]
  },
  {
   "cell_type": "code",
   "execution_count": 6,
   "metadata": {
    "scrolled": true
   },
   "outputs": [],
   "source": [
    "from fuzzywuzzy import process\n",
    "\n",
    "\n",
    "def match_names(wrong, correct):\n",
    "    names_array = []\n",
    "    ratio_array = []\n",
    "    for row in wrong:\n",
    "        x=process.extractOne(row, correct)\n",
    "        names_array.append(x[0])\n",
    "        ratio_array.append(x[1])\n",
    "    return names_array, ratio_array\n",
    "\n",
    "## correct the provinces\n",
    "# wrong data set\n",
    "\n",
    "table4 = table3.copy()\n",
    "wrong_names = table4['province'].values\n",
    "\n"
   ]
  },
  {
   "cell_type": "code",
   "execution_count": 7,
   "metadata": {},
   "outputs": [],
   "source": [
    "# correct data set\n",
    "choices_df  = pd.read_csv('../district/prov_list.csv')\n",
    "correct_names=choices_df['PRV_NAME_TH'].values"
   ]
  },
  {
   "cell_type": "code",
   "execution_count": 8,
   "metadata": {},
   "outputs": [],
   "source": [
    "name_match, ratio_match = match_names(wrong_names, correct_names)\n",
    "\n",
    "table4['province'] = pd.Series(name_match, index=table3.index)\n",
    "\n",
    "#table4.tail()\n"
   ]
  },
  {
   "cell_type": "markdown",
   "metadata": {},
   "source": [
    "## correct districts"
   ]
  },
  {
   "cell_type": "code",
   "execution_count": null,
   "metadata": {},
   "outputs": [],
   "source": [
    "## correct the districts\n",
    "# wrong data set\n",
    "wrong_names = table3[~(table3['sum_row'] | table3['ext_row'])]['district'].values\n",
    "\n",
    "# correct data set\n",
    "choices_df  = pd.read_csv('../district/dist_list.csv')\n",
    "correct_names=choices_df['AMP_NAME_TH'].values\n",
    "\n",
    "\n",
    "name_match, ratio_match = match_names(wrong_names, correct_names)\n",
    "\n",
    "ind = table3[~(table3['sum_row'] | table3['ext_row'])]['district'].index\n",
    "table4.loc[ind, 'district'] = pd.Series(name_match, index=ind)\n",
    "\n",
    "## show data\n",
    "table4.sample(10)"
   ]
  },
  {
   "cell_type": "markdown",
   "metadata": {},
   "source": [
    "# Export CSV"
   ]
  },
  {
   "cell_type": "code",
   "execution_count": 48,
   "metadata": {},
   "outputs": [],
   "source": [
    "ind2 = table3[~table3['sum_row']]['district'].index\n",
    "table4.loc[ind2, predefined_head].to_csv(r'results_by_districts.csv', index = None, header=True)\n",
    "\n",
    "ind2 = table3[table3['sum_row']]['district'].index\n",
    "table4.loc[ind2, predefined_head].to_csv(r'results_by_prov.csv', index = None, header=True)"
   ]
  },
  {
   "cell_type": "code",
   "execution_count": null,
   "metadata": {},
   "outputs": [],
   "source": []
  }
 ],
 "metadata": {
  "kernelspec": {
   "display_name": "Python 3",
   "language": "python",
   "name": "python3"
  },
  "language_info": {
   "codemirror_mode": {
    "name": "ipython",
    "version": 3
   },
   "file_extension": ".py",
   "mimetype": "text/x-python",
   "name": "python",
   "nbconvert_exporter": "python",
   "pygments_lexer": "ipython3",
   "version": "3.7.3"
  }
 },
 "nbformat": 4,
 "nbformat_minor": 2
}
